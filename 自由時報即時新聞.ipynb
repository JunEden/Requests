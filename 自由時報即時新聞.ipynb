{
  "nbformat": 4,
  "nbformat_minor": 0,
  "metadata": {
    "colab": {
      "name": "自由時報即時新聞",
      "provenance": [],
      "collapsed_sections": []
    },
    "kernelspec": {
      "name": "python3",
      "display_name": "Python 3"
    },
    "language_info": {
      "name": "python"
    }
  },
  "cells": [
    {
      "cell_type": "code",
      "metadata": {
        "id": "uoc_u7Fyzwyn"
      },
      "source": [
        "import requests\n",
        "from bs4 import BeautifulSoup\n"
      ],
      "execution_count": 1,
      "outputs": []
    },
    {
      "cell_type": "code",
      "metadata": {
        "id": "WqujBqia1nJS"
      },
      "source": [
        "res = requests.get(\"https://news.ltn.com.tw/\")\n",
        "soup = BeautifulSoup(res.text,'lxml')"
      ],
      "execution_count": 2,
      "outputs": []
    },
    {
      "cell_type": "code",
      "metadata": {
        "id": "ooPx4Eer34N_",
        "colab": {
          "base_uri": "https://localhost:8080/"
        },
        "outputId": "51ac0e2d-54dc-4708-d44d-3335215b0923"
      },
      "source": [
        "for li in soup.select('li'):\n",
        "  if li.select(\"span\"):\n",
        "    title = li.select_one(\"p span\")\n",
        "    time = li.select_one(\".time\")\n",
        "    Href = li.select_one(\".tit\").get(\"href\")\n",
        "\n",
        "    print(title.text,time.text,Href)\n",
        "    print(\"\\n==========================\\n\")"
      ],
      "execution_count": 5,
      "outputs": [
        {
          "output_type": "stream",
          "text": [
            "北京將展開新一輪大外宣 外媒：美應制定長期作戰策略 15:02 https://news.ltn.com.tw/news/world/breakingnews/3565014\n",
            "\n",
            "==========================\n",
            "\n",
            "解除隔離手機定位失聯 新店6旬男在家倒地亡 15:01 https://news.ltn.com.tw/news/society/breakingnews/3565215\n",
            "\n",
            "==========================\n",
            "\n",
            "智冠5月營收5.47億元 6月啟動海外遊戲營運服務 15:01 https://ec.ltn.com.tw/article/breakingnews/3565217\n",
            "\n",
            "==========================\n",
            "\n",
            "高端疫苗今解盲 陳時中：還要合併其它研究數據才能送審 15:01 https://news.ltn.com.tw/news/life/breakingnews/3565207\n",
            "\n",
            "==========================\n",
            "\n",
            "貝嫂時隔九年重返「辣妹合唱團」？經典出道曲成標語T 15:00 https://istyle.ltn.com.tw/article/16544\n",
            "\n",
            "==========================\n",
            "\n",
            "今年五月網路攻擊暴增168%！亞太排名日本第一、台灣第五 14:58 https://3c.ltn.com.tw/news/44742\n",
            "\n",
            "==========================\n",
            "\n",
            "避免群聚 彰市4大傳統市場流動攤販明起「清零」 14:58 https://news.ltn.com.tw/news/life/breakingnews/3565210\n",
            "\n",
            "==========================\n",
            "\n",
            "防堵疫情！ 全台醫院異動資訊一覽（不斷更新） 14:58 https://news.ltn.com.tw/news/life/breakingnews/3539763\n",
            "\n",
            "==========================\n",
            "\n",
            "方芳芳憂獨居老人成防疫破口 盼企業認購「平安防疫箱」 14:57 https://ent.ltn.com.tw/news/breakingnews/3565206\n",
            "\n",
            "==========================\n",
            "\n",
            "新北市議員陳偉杰偕地方人士 捐千份快篩試劑 14:55 https://news.ltn.com.tw/news/life/breakingnews/3565205\n",
            "\n",
            "==========================\n",
            "\n",
            "INFINITE慶成軍11週年 成烈曬超狂8塊「巧克力腹肌」謝粉絲 14:55 https://ent.ltn.com.tw/news/breakingnews/3565091\n",
            "\n",
            "==========================\n",
            "\n",
            "宅在家大買特買！富邦媒5月營收年增46.7％ 14:53 https://ec.ltn.com.tw/article/breakingnews/3565202\n",
            "\n",
            "==========================\n",
            "\n",
            "全台確診地圖》高屏、雲嘉、離島＋0 苗栗再度上升 14:52 https://news.ltn.com.tw/news/life/breakingnews/3565199\n",
            "\n",
            "==========================\n",
            "\n",
            "基隆成功、仁愛市場封閉 警交管分流毗鄰華三街人潮 14:51 https://news.ltn.com.tw/news/life/breakingnews/3565195\n",
            "\n",
            "==========================\n",
            "\n",
            "疫苗問題延燒…白冰冰在家做「這件事」祈福：希望大家團結 14:51 https://ent.ltn.com.tw/news/breakingnews/3565167\n",
            "\n",
            "==========================\n",
            "\n",
            "台中「嘉玲」回來了！ 市府全力防端午破功 14:51 https://news.ltn.com.tw/news/life/breakingnews/3565181\n",
            "\n",
            "==========================\n",
            "\n",
            "八貫5月營收1.37億元 看好下半年營運Ｖ型彈升 14:50 https://ec.ltn.com.tw/article/breakingnews/3565200\n",
            "\n",
            "==========================\n",
            "\n",
            "疫苗不夠！貝克漢、林書豪眾星籲G7捐世界「1.5億劑」 14:49 https://ent.ltn.com.tw/news/breakingnews/3565088\n",
            "\n",
            "==========================\n",
            "\n",
            "零接觸採購需求強 PChome5月營收創同期新高 14:48 https://ec.ltn.com.tw/article/breakingnews/3565187\n",
            "\n",
            "==========================\n",
            "\n",
            "紓困4.0未考慮新創處境 創投公會籲莫讓新創成孤兒 14:46 https://ec.ltn.com.tw/article/breakingnews/3565182\n",
            "\n",
            "==========================\n",
            "\n"
          ],
          "name": "stdout"
        }
      ]
    },
    {
      "cell_type": "markdown",
      "metadata": {
        "id": "zG0uEUUyKz9U"
      },
      "source": [
        ""
      ]
    },
    {
      "cell_type": "code",
      "metadata": {
        "colab": {
          "base_uri": "https://localhost:8080/"
        },
        "id": "xHTPM69m-wU3",
        "outputId": "07c9bb38-2746-4462-909e-2af8fc27df5a"
      },
      "source": [
        ""
      ],
      "execution_count": null,
      "outputs": [
        {
          "output_type": "stream",
          "text": [
            "[]\n"
          ],
          "name": "stdout"
        }
      ]
    },
    {
      "cell_type": "code",
      "metadata": {
        "id": "Xe49v2IRFnKZ"
      },
      "source": [
        ""
      ],
      "execution_count": null,
      "outputs": []
    }
  ]
}